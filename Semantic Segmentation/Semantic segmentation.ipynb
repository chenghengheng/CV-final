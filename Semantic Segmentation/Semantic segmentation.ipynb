{
 "cells": [
  {
   "cell_type": "code",
   "execution_count": null,
   "metadata": {},
   "outputs": [],
   "source": [
    "import os\n",
    "# 显卡内存自动分配\n",
    "os.environ['CUDA_VISIBLE_DEVICES'] = '/gpu:0'"
   ]
  },
  {
   "cell_type": "code",
   "execution_count": null,
   "metadata": {},
   "outputs": [],
   "source": [
    "import pixellib\n",
    "from pixellib.semantic import semantic_segmentation\n",
    "\n",
    "segment_video = semantic_segmentation()\n",
    "segment_video.load_ade20k_model(\"deeplabv3_xception65.h5\")\n",
    "segment_video.process_video_ade20k(\"video.mp4\", overlay = True, frames_per_second= 15, output_video_name=\"output_video.mp4\")"
   ]
  }
 ],
 "metadata": {
  "kernelspec": {
   "display_name": "Python 3",
   "language": "python",
   "name": "python3"
  },
  "language_info": {
   "codemirror_mode": {
    "name": "ipython",
    "version": 3
   },
   "file_extension": ".py",
   "mimetype": "text/x-python",
   "name": "python",
   "nbconvert_exporter": "python",
   "pygments_lexer": "ipython3",
   "version": "3.6.3"
  }
 },
 "nbformat": 4,
 "nbformat_minor": 2
}
